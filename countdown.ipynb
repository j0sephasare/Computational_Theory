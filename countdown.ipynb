{
 "cells": [
  {
   "cell_type": "markdown",
   "metadata": {},
   "source": [
    "# Introduction\n"
   ]
  },
  {
   "cell_type": "markdown",
   "metadata": {},
   "source": [
    "### Overview of the Countdown Numbers Game\n",
    "\n",
    "The Countdown numbers game is a really interesting and mind stimulating part of the famous tv show \"Countdown,\" where players compete using their speedy thinking and mathematical abilities. The participants are given six random numbers and a target number in the game. The difficulty comes from making the target number out of the six numbers using addition, subtraction, multiplication and division within a small time limit. This overall is a very complex computational problem that may come off easy.\n"
   ]
  },
  {
   "cell_type": "markdown",
   "metadata": {},
   "source": [
    "### Importance of Understanding Computational Problems through Games\n",
    "Games such as Countdown not only entertain but are an example of computational problems presented in everydays computations. From the analyzes of such games we can get a better grasp at tough computational problems by showcasing pratical applications of theoretical computer science concepts that are engaging and accessible. In the process of investigating the computational foundation of the countdown number games, we go through multiple different models of computation paradigms and the complexity of algorithms. \n",
    "\n",
    "Throughout this analysis we will go through the theory behind the game the computational complexity it entails and our approach to solving it."
   ]
  },
  {
   "cell_type": "markdown",
   "metadata": {},
   "source": []
  }
 ],
 "metadata": {
  "language_info": {
   "name": "python"
  }
 },
 "nbformat": 4,
 "nbformat_minor": 2
}
