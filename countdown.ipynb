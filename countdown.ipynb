{
 "cells": [
  {
   "cell_type": "markdown",
   "metadata": {},
   "source": [
    "# Introduction\n"
   ]
  },
  {
   "cell_type": "markdown",
   "metadata": {},
   "source": [
    "### Overview of the Countdown Numbers Game\n",
    "\n",
    "The Countdown numbers game is a really interesting and mind stimulating part of the famous tv show \"Countdown,\" where players compete using their speedy thinking and mathematical abilities. The participants are given six random numbers and a target number in the game. The difficulty comes from making the target number out of the six numbers using addition, subtraction, multiplication and division within a small time limit. This overall is a very complex computational problem that may come off easy.\n"
   ]
  },
  {
   "cell_type": "markdown",
   "metadata": {},
   "source": [
    "### Importance of Understanding Computational Problems through Games\n",
    "Games such as Countdown not only entertain but are an example of computational problems presented in everydays computations. From the analyzes of such games we can get a better grasp at tough computational problems by showcasing pratical applications of theoretical computer science concepts that are engaging and accessible. In the process of investigating the computational foundation of the countdown number games, we go through multiple different models of computation paradigms and the complexity of algorithms. \n",
    "\n",
    "Throughout this analysis we will go through the theory behind the game the computational complexity it entails and our approach to solving it."
   ]
  },
  {
   "cell_type": "markdown",
   "metadata": {},
   "source": [
    "### Explanation of the Countdown Numbers Game"
   ]
  },
  {
   "cell_type": "markdown",
   "metadata": {},
   "source": [
    "#### Rules and Objectives\n",
    "The Numbers Game on countdown is and integral component of the show Countdown. This part of the the show challenges its contestants to use their numerical  knowledge and strategic thinking to achieve a specific goal under time constratints. The rules and objectives of the game are as follows:\n",
    "\n",
    "##### Objective\n",
    "The primary objective of the Countdown Numbers Game is for the contestants to use arithmetic operations to combine six chosen numbers to approxiate or exactly reach a randomly generated target number. The style of the game lies in its simplicity and the infinite array of possible solutions paths that players can explore and take.\n",
    "\n",
    "\n",
    "##### Selection of Numbers\n",
    "At the beginning of each round, contestants have to select six numbers out of a list of given numbers. This selection of numbers consists of two sequences of the integers from 1 through 10. (This means every number is provided twice) and they are given one set of the larger numbers 25,50,75 and 100. The contestants can choose any combination of these aiming for a mix that will help them reach the target number.\n",
    "\n",
    "##### Producing the Target Number\n",
    "A random number is generated which will fall within the range of 101 to 999. This target number is what the contestants have to reach using the six number they have chosen. The allowed Operations a participant can use are the four basic arithmetic operations to reach the target number they are:\n",
    "\n",
    ". Addition(+)\n",
    ". Subtraction(-)\n",
    ". Multiplcation(x)\n",
    ". Division(÷)\n",
    "\n",
    "Each of the six numbers can be used once and the operations can be repeated any number of times. However there are two constraints.\n",
    "\n",
    "**Division** can only be done if it results in a whole number fractions or decimals are not allowed during any of the calculation. \n",
    "\n",
    "**Subtraction** can only be used if it results in a positive number. This restriction ensures that final results with be of positive integer values.\n",
    "\n",
    "\n",
    "\n",
    "\n",
    "\n",
    "\n",
    "\n",
    "\n",
    "\n",
    "\n"
   ]
  },
  {
   "cell_type": "markdown",
   "metadata": {},
   "source": [
    "## Introduction into Computational Complexity \n",
    "\n",
    "Computational complexity theory is a big part of computer science, which deals with the classification of problems upon their complexity and quantitative evaluation of the resources needed to resolve them. The basis of this theory is the division of the problems that can be easily arrived to a solution and those that state the problem simply but are extremely difficult to decipher and solve. This structure has two objectives: firstly, providing a clear understanding of the boundaries of computability and secondly specifying the best algorithms[[3]](https://en.wikipedia.org/wiki/Computational_complexity). The essence  of computational complexity is within two key concepts: the aspects of space complexity and time complexity. Time complexity refers to the computational time that a given algorithm requires to complete in terms of the length of the input, while space complexity refers to the amount of space that needs to be taken by the algorithm. These metrics  form the basis of the algorithm efficieny evaluation, especially as the size of the input datasets increase known as scalability\n",
    "\n",
    "\n",
    "\n",
    "\n"
   ]
  },
  {
   "cell_type": "markdown",
   "metadata": {},
   "source": [
    "\n",
    "# References \n",
    "\n",
    "https://en.wikipedia.org/wiki/Countdown_(game_show)#:~:text=The%20contestants%20have%2030%20seconds,to%20use%20all%20six%20numbers.[[1]](https://en.wikipedia.org/wiki/Countdown_(game_show)#:~:text=The%20contestants%20have%2030%20seconds,to%20use%20all%20six%20numbers.) Countdown Rules\n",
    "\n",
    "\n",
    "http://datagenetics.com/blog/august32014/index.html[[2]](http://datagenetics.com/blog/august32014/index.html)Countdown Rules \n",
    "\n",
    "https://en.wikipedia.org/wiki/Computational_complexity[[3]](https://en.wikipedia.org/wiki/Computational_complexity)"
   ]
  }
 ],
 "metadata": {
  "language_info": {
   "name": "python"
  }
 },
 "nbformat": 4,
 "nbformat_minor": 2
}
