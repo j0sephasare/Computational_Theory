{
 "cells": [
  {
   "cell_type": "markdown",
   "metadata": {},
   "source": [
    "# Introduction\n"
   ]
  },
  {
   "cell_type": "markdown",
   "metadata": {},
   "source": [
    "### Overview of the Countdown Numbers Game\n",
    "\n",
    "The Countdown numbers game is a really interesting and mind stimulating part of the famous tv show \"Countdown,\" where players compete using their speedy thinking and mathematical abilities. The participants are given six random numbers and a target number in the game. The difficulty comes from making the target number out of the six numbers using addition, subtraction, multiplication and division within a small time limit. This overall is a very complex computational problem that may come off easy.\n"
   ]
  },
  {
   "cell_type": "markdown",
   "metadata": {},
   "source": [
    "### Importance of Understanding Computational Problems through Games\n",
    "Games such as Countdown not only entertain but are an example of computational problems presented in everydays computations. From the analyzes of such games we can get a better grasp at tough computational problems by showcasing pratical applications of theoretical computer science concepts that are engaging and accessible. In the process of investigating the computational foundation of the countdown number games, we go through multiple different models of computation paradigms and the complexity of algorithms. \n",
    "\n",
    "Throughout this analysis we will go through the theory behind the game the computational complexity it entails and our approach to solving it."
   ]
  },
  {
   "cell_type": "markdown",
   "metadata": {},
   "source": [
    "### Explanation of the Countdown Numbers Game"
   ]
  },
  {
   "cell_type": "markdown",
   "metadata": {},
   "source": [
    "#### Rules and Objectives\n",
    "The Numbers Game on countdown is and integral component of the show Countdown. This part of the the show challenges its contestants to use their numerical  knowledge and strategic thinking to achieve a specific goal under time constratints. The rules and objectives of the game are as follows:\n",
    "\n",
    "##### Objective\n",
    "The primary objective of the Countdown Numbers Game is for the contestants to use arithmetic operations to combine six chosen numbers to approxiate or exactly reach a randomly generated target number. The style of the game lies in its simplicity and the infinite array of possible solutions paths that players can explore and take.\n",
    "\n",
    "\n",
    "##### Selection of Numbers\n",
    "At the beginning of each round, contestants have to select six numbers out of a list of given numbers. This selection of numbers consists of two sequences of the integers from 1 through 10. (This means every number is provided twice) and they are given one set of the larger numbers 25,50,75 and 100. The contestants can choose any combination of these aiming for a mix that will help them reach the target number.\n",
    "\n",
    "##### Producing the Target Number\n",
    "A random number is generated which will fall within the range of 101 to 999. This target number is what the contestants have to reach using the six number they have chosen. The allowed Operations a participant can use are the four basic arithmetic operations to reach the target number they are:\n",
    "\n",
    ". Addition(+)\n",
    ". Subtraction(-)\n",
    ". Multiplcation(x)\n",
    ". Division(÷)\n",
    "\n",
    "Each of the six numbers can be used once and the operations can be repeated any number of times. However there are two constraints.\n",
    "\n",
    "**Division** can only be done if it results in a whole number fractions or decimals are not allowed during any of the calculation. \n",
    "\n",
    "**Subtraction** can only be used if it results in a positive number. This restriction ensures that final results with be of positive integer values.\n",
    "\n",
    "\n",
    "\n",
    "\n",
    "\n",
    "\n",
    "\n",
    "\n",
    "\n",
    "\n"
   ]
  },
  {
   "cell_type": "markdown",
   "metadata": {},
   "source": [
    "## Detailed Example of the Countdown Numbers Game"
   ]
  },
  {
   "cell_type": "markdown",
   "metadata": {},
   "source": [
    "In this section we will explore a typical game scenario in the countdown numbers game. This will include the selection of numbers and a step by step explanation of how a contestant might reach the target number using arithmetic operations"
   ]
  },
  {
   "cell_type": "markdown",
   "metadata": {},
   "source": [
    "### Scenario Setup\n"
   ]
  },
  {
   "cell_type": "markdown",
   "metadata": {},
   "source": [
    "Imagine in a game round the following numbers are available for selection:\n",
    "\n",
    ". Small numbers: Two sets of [1, 2, 3, 4, 5, 6, 7, 8, 9, 10]\n",
    ". Large numbers: [25, 50, 75, 100]\n",
    "\n",
    "The contestant decides to select the numbers [1, 3, 5, 25, 50, 75].\n",
    "\n",
    "The target number generated for this round is 653."
   ]
  },
  {
   "cell_type": "markdown",
   "metadata": {},
   "source": [
    "### Step by Step Walkthrough\n",
    "\n",
    "1. Initial Selection:\n",
    "\n",
    "   . Chosen Numbers: 1, 3, 5, 25, 50, 75\n",
    "   . Target Number: 653\n",
    "\n",
    "2. Strategy Formulation:\n",
    "\n",
    ". The contestant reviews the numbers and considers possible combinations and operations that could approximate or exactly reach the target.\n",
    "\n",
    "3. Calculation Steps:\n",
    "\n",
    ". Step 1: Multiply 25 by 3 to get 75\n",
    "\n",
    "25 x 3 = 75\n",
    "\n",
    ". Step 2 Add the result from Step 1 to 75 to get 150\n",
    "\n",
    "75 + 75 = 150\n",
    "\n",
    ". Step 3 Multiply the Result from Step 2 by 5 to get 750\n",
    "\n",
    "150 x 3 = 750\n",
    "\n",
    ". Step 4 Subtract 50 again to get even closer to the target\n",
    "\n",
    "750 - 50 = 700\n",
    "\n",
    ". Step 5 Subtract 50 again to get even closer to the target\n",
    "\n",
    "700 - 50 = 650\n",
    "\n",
    ". Step 6 Use the smallest number, 1 to add to 650 reaching 651 which is very close to 653\n",
    "\n",
    "650 + 1 = 651   \n",
    "\n",
    "Conclusion:\n",
    "In this the contestant has used the number [1, 3, 5, 25, 50, 75] creatively to reach 651, just 2 points shy of the target 653. And the operations used were Multiplcation, Addition and Subtraction"
   ]
  },
  {
   "cell_type": "markdown",
   "metadata": {},
   "source": [
    "## Introduction into Computational Complexity \n",
    "\n",
    "Computational complexity theory is a big part of computer science, which deals with the classification of problems upon their complexity and quantitative evaluation of the resources needed to resolve them. The basis of this theory is the division of the problems that can be easily arrived to a solution and those that state the problem simply but are extremely difficult to decipher and solve. This structure has two objectives: firstly, providing a clear understanding of the boundaries of computability and secondly specifying the best algorithms[[3]](https://en.wikipedia.org/wiki/Computational_complexity). The essence  of computational complexity is within two key concepts: the aspects of space complexity and time complexity. Time complexity refers to the computational time that a given algorithm requires to complete in terms of the length of the input, while space complexity refers to the amount of space that needs to be taken by the algorithm. These metrics  form the basis of the algorithm efficieny evaluation, especially as the size of the input datasets increase known as scalability\n",
    "\n",
    "\n",
    "\n",
    "\n"
   ]
  },
  {
   "cell_type": "markdown",
   "metadata": {},
   "source": [
    "## Key Concepts of Computational Complexity\n",
    "\n",
    ". Time Complexity: This measures the amount of computational time required by an algorithm relative to the input size. It provides insights into scalability of an algorithm as inputs grow larger.\n",
    "\n",
    ". Space Complexity: This refers to the total amount of memory space an aglorithm needs during its execution, again in relation tot he input size. \n",
    "    \n",
    "The metrics are fundamental for evaluation the efficiency of algorithms, especially in terms of their scalability and practicilty in handling large datatsets."
   ]
  },
  {
   "cell_type": "markdown",
   "metadata": {},
   "source": [
    "## Classifying Problems\n",
    "Computatioal problems are classified into complexity classes such as P, NP, NP complete, and NP hard, based on their ability to be solved and the resources required for their solution\n",
    "\n",
    "**P(Polynomial Time)** These are problems that cna be solved in polynomial time. They would be considered easier problems where the solution can be found relatively quickly as the size of the inputs grows.\n",
    "\n",
    "**NP(Nondeterministic Polynomial time)** Problems for which a solution can be verified in polynomial time. Finding the solution would be the hardest part but verifying it would be alot easier.\n",
    "\n",
    "**NP-Complete** A subset of NP that are as hard as the hardest problems in NP. if any NP-complete problem can be solved in polynomial time then every problem in NP can by solved in polynomial time\n",
    "\n",
    "**NP-Hard** Poblems that at least as hard as the hardest in NP. They may not belong to NP their solution might not be verifiable in polynomial time.\n",
    "\n",
    "[[5]](https://www.geeksforgeeks.org/types-of-complexity-classes-p-np-conp-np-hard-and-np-complete/)"
   ]
  },
  {
   "cell_type": "markdown",
   "metadata": {},
   "source": [
    "### The Significance of Computational Complexity in problem-solving\n",
    "Understanding computational complexity is crucial for evaluating the challenges involved in solving problems like those presented in the countdown numbers game. At first the game's challenge might appear simple you use arithmetic operations to reach a target number. However when considering the possible operations and combinations it rapidly cmanifests as a computationally intense scenario.\n"
   ]
  },
  {
   "cell_type": "markdown",
   "metadata": {},
   "source": [
    "# Approach to solving the Countdown Numbers Game\n",
    "\n",
    "\n",
    "### Algorithmic Strategies Considered\n",
    "In tackling the computational complexity of the countdown numbers. Multiple algorithmic strategies  can used each with their own benefits and limitations. The primary strategies include:\n",
    "\n",
    "Brute Force Approach:\n",
    "\n",
    "***Description*** This method involves checking all posible combinations of numbers and operations to reach the target Number.\n",
    "\n",
    "***Complexity*** The Brute force approach exhibits factorial time complexity due to the permutations involved in arranging numbers and selecting operations, making it imppractical for larger sets or more complex targets.\n",
    "\n",
    "\n",
    "\n",
    "\n",
    "Dynamic Programming\n",
    "\n",
    "***Description*** Dynamic programming optimizes the brute force approach by breaking the problem down into simpler subproblems and storing the results to avoid redundant calculations\n",
    "\n",
    "***Complexity*** This strategy aims to reduce the exponential time complexity of brute force methods to a more manageable level, depending on the structure of the problem and the constraints involved."
   ]
  },
  {
   "cell_type": "markdown",
   "metadata": {},
   "source": [
    "# Implementation Method\n",
    "\n",
    "The solve_numbers function will attempt to find a solution to reach or approximate a target number using a list of six numbers and the allowed arithmetic operations (addition, subtraction, multiplication, division) under the game's rules.\n",
    "\n",
    "Here's the Python code for the function:"
   ]
  },
  {
   "cell_type": "code",
   "execution_count": 7,
   "metadata": {},
   "outputs": [],
   "source": [
    "from itertools import permutations, product\n",
    "from operator import add, sub, mul, truediv\n",
    "\n",
    "def solve_numbers(numbers, target):\n",
    "    # Define operations with functional programming\n",
    "    operations = [add, sub, mul, truediv]\n",
    "    all_combinations = []\n",
    "\n",
    "    # Generate all permutations of numbers and all combinations of operations\n",
    "    for nums in permutations(numbers):\n",
    "        for ops in product(operations, repeat=len(numbers)-1):\n",
    "            try:\n",
    "                current_value = nums[0]\n",
    "                expression = f\"{nums[0]}\"\n",
    "                for num, op in zip(nums[1:], ops):\n",
    "                    if op == truediv and num == 0:\n",
    "                        break\n",
    "                    if op == truediv and current_value % num != 0:\n",
    "                        break\n",
    "                    if op == sub and current_value - num < 0:\n",
    "                        break\n",
    "                    current_value = op(current_value, num)\n",
    "                    expression += f\" {op.__name__} {num}\"\n",
    "                    if current_value == target:\n",
    "                        return f\"Solution found: {expression} = {target}\"\n",
    "            except Exception as e:\n",
    "                continue\n",
    "    \n",
    "    # If no exact solution, try to find the closest approximation\n",
    "    closest = None\n",
    "    closest_val = float('inf')\n",
    "    for nums in permutations(numbers):\n",
    "        for ops in product(operations, repeat=len(numbers)-1):\n",
    "            try:\n",
    "                current_value = nums[0]\n",
    "                expression = f\"{nums[0]}\"\n",
    "                for num, op in zip(nums[1:], ops):\n",
    "                    if op == truediv and num == 0:\n",
    "                        break\n",
    "                    if op == truediv and current_value % num != 0:\n",
    "                        break\n",
    "                    if op == sub and current_value - num < 0:\n",
    "                        break\n",
    "                    current_value = op(current_value, num)\n",
    "                    expression += f\" {op.__name__} {num}\"\n",
    "                    if abs(current_value - target) < abs(closest_val - target):\n",
    "                        closest = f\"Closest approximation: {expression} = {current_value}\"\n",
    "                        closest_val = current_value\n",
    "            except Exception as e:\n",
    "                continue\n",
    "\n",
    "    return closest if closest else \"No solution or approximation found\"\n",
    "\n"
   ]
  },
  {
   "cell_type": "markdown",
   "metadata": {},
   "source": [
    "## Examples of Using the Function\n",
    "Here are a few examples demonstrating how to use the solve_numbers function:"
   ]
  },
  {
   "cell_type": "code",
   "execution_count": 8,
   "metadata": {},
   "outputs": [
    {
     "name": "stdout",
     "output_type": "stream",
     "text": [
      "Solution found: 1 mul 50 add 75 mul 5 add 3 add 25 = 653\n",
      "Solution found: 2 mul 4 add 6 add 75 mul 8 add 100 = 812\n",
      "Closest approximation: 10 truediv 2 add 2 mul 10 mul 8 sub 5 = 555.0\n"
     ]
    }
   ],
   "source": [
    "# Example 1\n",
    "numbers = [1, 3, 5, 25, 50, 75]\n",
    "target = 653\n",
    "print(solve_numbers(numbers, target))\n",
    "\n",
    "# Example 2\n",
    "numbers = [2, 4, 6, 8, 75, 100]\n",
    "target = 812\n",
    "print(solve_numbers(numbers, target))\n",
    "\n",
    "# Example 3\n",
    "numbers = [10, 10, 2, 2, 5, 8]\n",
    "target = 556\n",
    "print(solve_numbers(numbers, target))\n"
   ]
  },
  {
   "cell_type": "markdown",
   "metadata": {},
   "source": [
    "## Explanation of Functional Programming Aspects\n",
    "\n",
    "In the solve_numbers function, functional programming is demonstrated through:In the solve_numbers function, functional programming is demonstrated through:\n",
    "\n",
    "\n",
    "Higher-order functions: The duty revolutionizes the usage of mathematics functions from the operator module by considering them of its citizens of the first rank, accepting them like variables.\n",
    "\n",
    "Immutability: To be more specific, it executes an internal mutation on some variable values, but the input list and result are not altered or affected, following a major feature in functional programming paradigm.\n",
    "\n",
    "Use of functional constructs: These notions in functional programming are highly recommended for writing more condensed and readable code, and as loops are requred to be avoided, functions like list comprehensions, itertools.permutations, and itertools.product are used extensively for generating combinations and permutations."
   ]
  },
  {
   "cell_type": "markdown",
   "metadata": {},
   "source": [
    "## Conclusion\n",
    "\n",
    "The introduction of this solution utilizes a functional programming principle to pursue the Countdown numbers game with python language and the highly readable and maintainable code are some of the major advantages of this implementation. Modification of the function involving a higher level of functions with immutability data pattern features brings about a service that is both functional and efficient."
   ]
  },
  {
   "cell_type": "markdown",
   "metadata": {},
   "source": [
    "\n",
    "# References \n",
    "\n",
    "https://en.wikipedia.org/wiki/Countdown_(game_show)#:~:text=The%20contestants%20have%2030%20seconds,to%20use%20all%20six%20numbers.[[1]](https://en.wikipedia.org/wiki/Countdown_(game_show)#:~:text=The%20contestants%20have%2030%20seconds,to%20use%20all%20six%20numbers.) Countdown Rules\n",
    "\n",
    "\n",
    "http://datagenetics.com/blog/august32014/index.html[[2]](http://datagenetics.com/blog/august32014/index.html)Countdown Rules \n",
    "\n",
    "https://en.wikipedia.org/wiki/Computational_complexity[[3]](https://en.wikipedia.org/wiki/Computational_complexity)\n",
    "\n",
    "https://plato.stanford.edu/entries/computational-complexity/[[4]](https://plato.stanford.edu/entries/computational-complexity/)Computational Complexity\n",
    "\n",
    "https://www.geeksforgeeks.org/types-of-complexity-classes-p-np-conp-np-hard-and-np-complete/ [[5]](https://www.geeksforgeeks.org/types-of-complexity-classes-p-np-conp-np-hard-and-np-complete/)\n",
    "P, NP, CoNP, NP hard and NP complete | Complexity Classes\n",
    "\n",
    "\n",
    "https://appmum.com.au/tips-for-improving-at-countdown/#:~:text=Most%20people%20pick%20either%20one,This%20strategy%20works%20well.[[6]](https://appmum.com.au/tips-for-improving-at-countdown/#:~:text=Most%20people%20pick%20either%20one,This%20strategy%20works%20well.)\n",
    "\n",
    "https://www.youtube.com/watch?v=cVMhkqPP2YI&ab_channel=Computerphile[[7]](https://www.youtube.com/watch?v=cVMhkqPP2YI&ab_channel=Computerphile)"
   ]
  }
 ],
 "metadata": {
  "kernelspec": {
   "display_name": "Python 3",
   "language": "python",
   "name": "python3"
  },
  "language_info": {
   "codemirror_mode": {
    "name": "ipython",
    "version": 3
   },
   "file_extension": ".py",
   "mimetype": "text/x-python",
   "name": "python",
   "nbconvert_exporter": "python",
   "pygments_lexer": "ipython3",
   "version": "3.11.5"
  }
 },
 "nbformat": 4,
 "nbformat_minor": 2
}
